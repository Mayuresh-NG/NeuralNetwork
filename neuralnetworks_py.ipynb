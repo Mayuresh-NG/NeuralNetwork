{
  "nbformat": 4,
  "nbformat_minor": 0,
  "metadata": {
    "colab": {
      "provenance": []
    },
    "kernelspec": {
      "name": "python3",
      "display_name": "Python 3"
    },
    "language_info": {
      "name": "python"
    }
  },
  "cells": [
    {
      "cell_type": "code",
      "execution_count": null,
      "metadata": {
        "id": "62iv_2XoSOzu"
      },
      "outputs": [],
      "source": [
        "import numpy as np\n",
        "import pandas as pd\n",
        "\n",
        "def sigmoid(x):\n",
        "  return 1 / (np.exp(-x) + 1)"
      ]
    },
    {
      "cell_type": "code",
      "source": [
        "train_data = np.array([[0,0,1],[1,1,1],[1,0,1],[0,1,1]])\n",
        "train_output = np.array([[0,1,1,0]]).T"
      ],
      "metadata": {
        "id": "IWkUv9u4caem"
      },
      "execution_count": null,
      "outputs": []
    },
    {
      "cell_type": "code",
      "source": [
        "train_output"
      ],
      "metadata": {
        "colab": {
          "base_uri": "https://localhost:8080/"
        },
        "id": "gyot6EsMfb7_",
        "outputId": "df5e4495-e30f-4584-bfcd-d4253f625ae3"
      },
      "execution_count": null,
      "outputs": [
        {
          "output_type": "execute_result",
          "data": {
            "text/plain": [
              "array([[0],\n",
              "       [1],\n",
              "       [1],\n",
              "       [0]])"
            ]
          },
          "metadata": {},
          "execution_count": 33
        }
      ]
    },
    {
      "cell_type": "code",
      "source": [
        "train_output.shape"
      ],
      "metadata": {
        "colab": {
          "base_uri": "https://localhost:8080/"
        },
        "id": "sd2KGwMDgDgW",
        "outputId": "a510b6f7-418b-474d-c4f4-4dce997eeed8"
      },
      "execution_count": null,
      "outputs": [
        {
          "output_type": "execute_result",
          "data": {
            "text/plain": [
              "(4, 1)"
            ]
          },
          "metadata": {},
          "execution_count": 34
        }
      ]
    },
    {
      "cell_type": "code",
      "source": [
        "train_output.size"
      ],
      "metadata": {
        "colab": {
          "base_uri": "https://localhost:8080/"
        },
        "id": "gn4VVcqkgPc2",
        "outputId": "8af739b6-e65d-4d63-d21a-baab233b310c"
      },
      "execution_count": null,
      "outputs": [
        {
          "output_type": "execute_result",
          "data": {
            "text/plain": [
              "4"
            ]
          },
          "metadata": {},
          "execution_count": 23
        }
      ]
    },
    {
      "cell_type": "code",
      "source": [
        "train_output.ndim"
      ],
      "metadata": {
        "colab": {
          "base_uri": "https://localhost:8080/"
        },
        "id": "YK3eIIXVgPi-",
        "outputId": "c2036784-7703-4389-8f61-5bf5b0c566b4"
      },
      "execution_count": null,
      "outputs": [
        {
          "output_type": "execute_result",
          "data": {
            "text/plain": [
              "2"
            ]
          },
          "metadata": {},
          "execution_count": 29
        }
      ]
    },
    {
      "cell_type": "code",
      "source": [
        "#generate weights\n",
        "#model a single neuro with 3 input connections and 1 output connection\n",
        "#we asssign random wights\n",
        "np.random.seed(1)\n",
        "weights = 2 * np.random.random((3,1)) -1\n",
        "weights"
      ],
      "metadata": {
        "colab": {
          "base_uri": "https://localhost:8080/"
        },
        "id": "9R3Karw_gp5G",
        "outputId": "88697d76-2151-4c79-db52-085527ea780f"
      },
      "execution_count": null,
      "outputs": [
        {
          "output_type": "execute_result",
          "data": {
            "text/plain": [
              "array([[-0.16595599],\n",
              "       [ 0.44064899],\n",
              "       [-0.99977125]])"
            ]
          },
          "metadata": {},
          "execution_count": 84
        }
      ]
    },
    {
      "cell_type": "code",
      "source": [
        "for i in range(1000):\n",
        "  output = sigmoid(np.dot(train_data,weights))"
      ],
      "metadata": {
        "id": "XQJYqsJJjEOe"
      },
      "execution_count": null,
      "outputs": []
    },
    {
      "cell_type": "code",
      "source": [
        "def SCG(x):\n",
        "  return x * (1-x)"
      ],
      "metadata": {
        "id": "vFvDeQzpkET9"
      },
      "execution_count": null,
      "outputs": []
    },
    {
      "cell_type": "code",
      "source": [
        "output.shape"
      ],
      "metadata": {
        "colab": {
          "base_uri": "https://localhost:8080/"
        },
        "id": "VOFVbNwxs4en",
        "outputId": "bf3dc1aa-27cb-49e5-f5cc-681a145ceeda"
      },
      "execution_count": null,
      "outputs": [
        {
          "output_type": "execute_result",
          "data": {
            "text/plain": [
              "(4, 1)"
            ]
          },
          "metadata": {},
          "execution_count": 93
        }
      ]
    },
    {
      "cell_type": "code",
      "source": [
        "for i in range(5000):\n",
        "  inputs = train_data\n",
        "  output = sigmoid(np.dot(inputs,weights))\n",
        "  error = train_output - output \n",
        "  adjusted_weights = error * SCG(output)\n",
        "  weights += np.dot(inputs.T,adjusted_weights)"
      ],
      "metadata": {
        "id": "EvSr3bTumoLO"
      },
      "execution_count": null,
      "outputs": []
    },
    {
      "cell_type": "code",
      "source": [
        "print(weights)\n",
        "print('===============')\n",
        "print(output)"
      ],
      "metadata": {
        "colab": {
          "base_uri": "https://localhost:8080/"
        },
        "id": "fjPq0dBMngmO",
        "outputId": "7b20fe24-19c9-4dd0-cfb2-bfa503e4c720"
      },
      "execution_count": null,
      "outputs": [
        {
          "output_type": "stream",
          "name": "stdout",
          "text": [
            "[[ 8.95950703]\n",
            " [-0.20975775]\n",
            " [-4.27128529]]\n",
            "===============\n",
            "[[0.01377293]\n",
            " [0.98877541]\n",
            " [0.99087996]\n",
            " [0.011196  ]]\n"
          ]
        }
      ]
    }
  ]
}